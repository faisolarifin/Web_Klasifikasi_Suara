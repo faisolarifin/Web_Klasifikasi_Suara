{
 "cells": [
  {
   "cell_type": "code",
   "execution_count": 7,
   "id": "d52f08a6-0e49-4d75-9eef-07731355f5de",
   "metadata": {},
   "outputs": [],
   "source": [
    "import os\n",
    "import pymysql.cursors"
   ]
  },
  {
   "cell_type": "code",
   "execution_count": 13,
   "id": "0b09d36a-0b55-44ff-bf39-791ac96800cc",
   "metadata": {},
   "outputs": [],
   "source": [
    "cursor=conn=None\n",
    "def openDb():\n",
    "  global conn, cursor\n",
    "  conn = pymysql.connect(host=\"voice-classif-2.c89o8ilr3iqe.us-east-1.rds.amazonaws.com\",\n",
    "   user=\"ambyar\",\n",
    "    password=\"myawsdb221\",\n",
    "     database=\"voice_classification\",\n",
    "      port=3306,\n",
    "       autocommit=True)\n",
    "  cursor = conn.cursor()\n",
    "\n",
    "def closeDb():\n",
    "  global conn, cursor\n",
    "  cursor.close()\n",
    "  conn.close()"
   ]
  },
  {
   "cell_type": "code",
   "execution_count": 14,
   "id": "f4ec8f1b-6000-4b30-bf76-166a7acc8979",
   "metadata": {},
   "outputs": [],
   "source": [
    "kelas = {\n",
    "    'Abyan' : 1, 'Ilmi' : 2, 'Itsbat' : 3,'Lana' : 4,'Ulya' :5\n",
    "}\n",
    "openDb()\n",
    "for i in os.listdir('static/voice'):\n",
    "    for j in os.listdir(f'static/voice/{i}'):\n",
    "        sql = \"INSERT INTO dataset (kelas,voice_name) VALUES (%s,%s)\"\n",
    "        val = (kelas[i], j)\n",
    "        cursor.execute(sql, val)\n",
    "        conn.commit()\n",
    "closeDb()"
   ]
  },
  {
   "cell_type": "code",
   "execution_count": null,
   "id": "1a634566-7221-4561-9851-2fb8511dc916",
   "metadata": {},
   "outputs": [],
   "source": []
  },
  {
   "cell_type": "code",
   "execution_count": null,
   "id": "894cbc75-ca06-411e-bec0-b6d466f8d025",
   "metadata": {},
   "outputs": [],
   "source": []
  }
 ],
 "metadata": {
  "kernelspec": {
   "display_name": "Python 3 (ipykernel)",
   "language": "python",
   "name": "python3"
  },
  "language_info": {
   "codemirror_mode": {
    "name": "ipython",
    "version": 3
   },
   "file_extension": ".py",
   "mimetype": "text/x-python",
   "name": "python",
   "nbconvert_exporter": "python",
   "pygments_lexer": "ipython3",
   "version": "3.10.2"
  }
 },
 "nbformat": 4,
 "nbformat_minor": 5
}
